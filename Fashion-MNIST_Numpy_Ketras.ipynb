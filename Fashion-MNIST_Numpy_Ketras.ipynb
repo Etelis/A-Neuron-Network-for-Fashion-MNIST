{
  "cells": [
    {
      "cell_type": "markdown",
      "metadata": {
        "collapsed": false,
        "id": "XDDbguyGU8Fs"
      },
      "source": [
        "# Mid-semester assignment - Deep Learning\n",
        "Hello dear students,<br> This is the template notebook. Please upload it into your drive and open as Google Colab nootebook\".\n",
        "\n",
        "---\n",
        "<br>\n",
        "\n",
        "### Name and ID:\n",
        "Student 1: Itay Etelis\n",
        "<br>\n",
        "Student 2: Gilad Battat"
      ]
    },
    {
      "cell_type": "markdown",
      "metadata": {
        "id": "JLkWLC8f3HZI"
      },
      "source": [
        "## Fashion MNIST\n",
        "Fashion MNIST dataset contains 70,000 grayscale images in 10 categories. The images show individual articles of clothing at low resolution (28 by 28 pixels), as seen here:\n",
        "\n",
        "<table>\n",
        "  <tr><td>\n",
        "    <img src=\"https://tensorflow.org/images/fashion-mnist-sprite.png\"\n",
        "         alt=\"Fashion MNIST sprite\"  width=\"600\">\n",
        "  </td></tr>\n",
        "  \n",
        "</table>\n",
        "\n",
        "We will use 60,000 images to train the network and 10,000 images to evaluate how accurately the network learned to classify images."
      ]
    },
    {
      "cell_type": "markdown",
      "metadata": {
        "id": "WiRxNFCn3Vxd"
      },
      "source": [
        "Loading the dataset returns four NumPy arrays:\n",
        "\n",
        "* The `train_images` and `train_labels` arrays are the *training set*—the data the model uses to learn.\n",
        "* The model is tested against the *test set*, the `test_images`, and `test_labels` arrays.\n",
        "\n",
        "The images are 28x28 NumPy arrays, with pixel values ranging between 0 and 255. The *labels* are an array of integers, ranging from 0 to 9. These correspond to the *class* of clothing the image represents:\n",
        "\n",
        "<table>\n",
        "  <tr>\n",
        "    <th>Label</th>\n",
        "    <th>Class</th>\n",
        "  </tr>\n",
        "  <tr>\n",
        "    <td>0</td>\n",
        "    <td>T-shirt/top</td>\n",
        "  </tr>\n",
        "  <tr>\n",
        "    <td>1</td>\n",
        "    <td>Trouser</td>\n",
        "  </tr>\n",
        "    <tr>\n",
        "    <td>2</td>\n",
        "    <td>Pullover</td>\n",
        "  </tr>\n",
        "    <tr>\n",
        "    <td>3</td>\n",
        "    <td>Dress</td>\n",
        "  </tr>\n",
        "    <tr>\n",
        "    <td>4</td>\n",
        "    <td>Coat</td>\n",
        "  </tr>\n",
        "    <tr>\n",
        "    <td>5</td>\n",
        "    <td>Sandal</td>\n",
        "  </tr>\n",
        "    <tr>\n",
        "    <td>6</td>\n",
        "    <td>Shirt</td>\n",
        "  </tr>\n",
        "    <tr>\n",
        "    <td>7</td>\n",
        "    <td>Sneaker</td>\n",
        "  </tr>\n",
        "    <tr>\n",
        "    <td>8</td>\n",
        "    <td>Bag</td>\n",
        "  </tr>\n",
        "    <tr>\n",
        "    <td>9</td>\n",
        "    <td>Ankle boot</td>\n",
        "  </tr>\n",
        "</table>\n",
        "\n",
        "<br>\n",
        "\n",
        "# Goodluck!"
      ]
    },
    {
      "cell_type": "markdown",
      "metadata": {
        "collapsed": false,
        "id": "4K84YZ_QU8Fv"
      },
      "source": [
        "# Part 1 : Neural Network in plain NumPy (50%)"
      ]
    },
    {
      "cell_type": "markdown",
      "metadata": {
        "id": "QReFpU112hLT"
      },
      "source": [
        "## Import Libraries"
      ]
    },
    {
      "cell_type": "code",
      "execution_count": null,
      "metadata": {
        "id": "tLOHjUiFU8Fv"
      },
      "outputs": [],
      "source": [
        "import numpy as np\n",
        "import matplotlib\n",
        "import matplotlib.pyplot as plt\n",
        "from sklearn.datasets import fetch_openml\n",
        "from sklearn.metrics import classification_report, confusion_matrix\n"
      ]
    },
    {
      "cell_type": "markdown",
      "metadata": {
        "id": "D5MsCpUv2tuj"
      },
      "source": [
        "## Load Dataset"
      ]
    },
    {
      "cell_type": "code",
      "execution_count": null,
      "metadata": {
        "colab": {
          "base_uri": "https://localhost:8080/"
        },
        "id": "nbzv9ZYA2pyW",
        "outputId": "938d82fd-2417-402b-dea0-774d427719f8"
      },
      "outputs": [
        {
          "output_type": "stream",
          "name": "stdout",
          "text": [
            "(70000, 784) (70000,)\n"
          ]
        }
      ],
      "source": [
        "X, y = fetch_openml('Fashion-MNIST', version=1, return_X_y=True, as_frame=False)\n",
        "print(X.shape, y.shape)"
      ]
    },
    {
      "cell_type": "markdown",
      "metadata": {
        "id": "GPBGGKtSoVpU"
      },
      "source": [
        "## Data preprocessing (5%)"
      ]
    },
    {
      "cell_type": "markdown",
      "metadata": {
        "id": "LZfq8otp-wXY"
      },
      "source": [
        "### Feature scaling"
      ]
    },
    {
      "cell_type": "code",
      "execution_count": null,
      "metadata": {
        "colab": {
          "base_uri": "https://localhost:8080/"
        },
        "id": "7MZtZIzzDIKe",
        "outputId": "1ae37a9e-c0d9-460d-d7f5-191b4bb0ac18"
      },
      "outputs": [
        {
          "output_type": "stream",
          "name": "stdout",
          "text": [
            "(784, 70000)\n"
          ]
        }
      ],
      "source": [
        "examples = y.shape[0]\n",
        "y1 = y.reshape(1, examples)\n",
        "X1 = X / 255\n",
        "X1 = X1.T\n",
        "print(X1.shape)"
      ]
    },
    {
      "cell_type": "markdown",
      "metadata": {
        "id": "i6K01j7A_Z4W"
      },
      "source": [
        "### Select two classes"
      ]
    },
    {
      "cell_type": "code",
      "execution_count": null,
      "metadata": {
        "id": "7OuPZ0o8DNWq"
      },
      "outputs": [],
      "source": [
        "#TODO: select two classes (for example 2-Pullover and 4-Coat)\n",
        "\n",
        "# Selected Classes: (0, 1)\n",
        "column_idxs = np.where((y1.T == '0') | (y1.T == '1'))[0]\n",
        "X1 = X1[:, column_idxs]\n",
        "y1 = y1[:, column_idxs]"
      ]
    },
    {
      "cell_type": "code",
      "execution_count": null,
      "metadata": {
        "colab": {
          "base_uri": "https://localhost:8080/"
        },
        "id": "xoNHj8RMe61P",
        "outputId": "c0292905-0813-4793-a69b-767116d29ad5"
      },
      "outputs": [
        {
          "output_type": "execute_result",
          "data": {
            "text/plain": [
              "(14000,)"
            ]
          },
          "metadata": {},
          "execution_count": 135
        }
      ],
      "source": [
        "column_idxs.shape"
      ]
    },
    {
      "cell_type": "code",
      "execution_count": null,
      "metadata": {
        "colab": {
          "base_uri": "https://localhost:8080/"
        },
        "id": "7PPJR7DIZzmm",
        "outputId": "eafa599b-2685-4f34-99dd-1035d37e1657"
      },
      "outputs": [
        {
          "output_type": "execute_result",
          "data": {
            "text/plain": [
              "(784, 14000)"
            ]
          },
          "metadata": {},
          "execution_count": 136
        }
      ],
      "source": [
        "# Sanity check, each class has 7,000 examples, meaning total of 14,000 examples, with 784 features.\n",
        "X1.shape"
      ]
    },
    {
      "cell_type": "markdown",
      "metadata": {
        "id": "cn5UPcIQH2jS"
      },
      "source": [
        "### Split the data into Train set and Test set\n",
        "For this part, you will need to implement a function that will shuffle the data in a random order. Note that you keep a matching order in Y (the label)."
      ]
    },
    {
      "cell_type": "code",
      "execution_count": null,
      "metadata": {
        "id": "qSX8TMb_prrb"
      },
      "outputs": [],
      "source": [
        "def data_shuffle(X, Y):\n",
        "  x_T = X.T\n",
        "  y_T = Y.T\n",
        "  c = np.c_[x_T,y_T]\n",
        "  np.random.shuffle(c)\n",
        "  X, Y = c[:,:x_T.shape[1]].T, c[:,x_T.shape[1]:].T\n",
        "  return X, Y"
      ]
    },
    {
      "cell_type": "code",
      "execution_count": null,
      "metadata": {
        "id": "FBUI2DZmhd0y"
      },
      "outputs": [],
      "source": [
        "# TODO: Split the data into Train set and Test set (The use of libraries other than Numpy is strictly prohibited)\n",
        "\n",
        "def train_test_split(X, test_size=0.2):\n",
        "  slice_amount = int(test_size * X.shape[1])\n",
        "  return X[:, slice_amount:], X[:, :slice_amount]\n",
        "\n",
        "X = X1\n",
        "Y = y1\n",
        "\n",
        "# Use shuffle on the train data\n",
        "X, y = data_shuffle(X, Y)\n",
        "\n",
        "X_train, X_test = train_test_split(X)\n",
        "Y_train, Y_test = train_test_split(y)\n"
      ]
    },
    {
      "cell_type": "markdown",
      "metadata": {
        "id": "gg7D7fwGH9Yv"
      },
      "source": [
        "### Test yourself"
      ]
    },
    {
      "cell_type": "code",
      "execution_count": null,
      "metadata": {
        "id": "wkLl0PSyDR9S",
        "colab": {
          "base_uri": "https://localhost:8080/",
          "height": 267
        },
        "outputId": "72f034f8-3fe2-4e78-d5a7-11489902026c"
      },
      "outputs": [
        {
          "output_type": "display_data",
          "data": {
            "text/plain": [
              "<Figure size 432x288 with 1 Axes>"
            ],
            "image/png": "[encoded data removed]"
          },
          "metadata": {
            "needs_background": "light"
          }
        },
        {
          "output_type": "execute_result",
          "data": {
            "text/plain": [
              "'1'"
            ],
            "application/vnd.google.colaboratory.intrinsic+json": {
              "type": "string"
            }
          },
          "metadata": {},
          "execution_count": 155
        }
      ],
      "source": [
        "# Test yourself (Check that the classes you have selected are actually displayed)\n",
        "%matplotlib inline\n",
        "from numpy import random\n",
        "\n",
        "i = random.randint(100)\n",
        "plt.imshow(np.asmatrix(X_train[:,i].reshape(28,28),float), cmap = matplotlib.cm.binary)\n",
        "plt.axis(\"off\")\n",
        "plt.show()\n",
        "Y_train[0,i]"
      ]
    },
    {
      "cell_type": "markdown",
      "metadata": {
        "id": "Q81OW5M7oCWZ"
      },
      "source": [
        "## Activation functions (5%)"
      ]
    },
    {
      "cell_type": "code",
      "execution_count": null,
      "metadata": {
        "id": "nxruxXBsDmP-"
      },
      "outputs": [],
      "source": [
        "#TODO: Sigmoid activation function\n",
        "def sigmoid(z):\n",
        "  z = np.clip(z, -500, 500)\n",
        "  return 1/(1 + np.exp(-z))\n",
        "\n",
        "def sigmoid_prime(z):\n",
        "    sg = sigmoid(z)\n",
        "    return sg * (1 - sg)"
      ]
    },
    {
      "cell_type": "markdown",
      "metadata": {
        "id": "OBIAUcVboOG9"
      },
      "source": [
        "## Loss function (10%)\n",
        "BCE Loss function captures the intuition that the neural network should pay a high penalty(Loss→∞) when the estimated probability, with respect to the training example’s label, is completely wrong. On the other hand, the Loss should equal zero(Loss=0) when the estimated probability, with respect to the training example’s label, is correct. Simply put, the BCE Loss should equal zero in only two instances:<br>\n",
        "* if the example is positively labeled(y=1) the neural network model should be completely sure that the example belongs to the positive class i.e p̂=1.\n",
        "* if the example is negatively labeled(y=0) the neural network model should be completely sure that the example does not belong to the positive class i.e p̂=0.\n",
        "\n",
        "<b> When we work with a computer, there are very high values or very low values that it cannot handle and that could cause the system to crash. <br>In order to overcome the case where the function returns values that strive for infinity you will need to understand which range of values causes the logarithm to return inf \\ -inf and handle this within the function. </b>"
      ]
    },
    {
      "cell_type": "code",
      "execution_count": null,
      "metadata": {
        "id": "U0i2o9_KDUdQ"
      },
      "outputs": [],
      "source": [
        "#TODO: Binary cross entropy\n",
        "def log_loss(y_hat, y, eps=1e-15):\n",
        "    '''\n",
        "    Logistic loss, assuming a single value in y_hat and y.\n",
        "    '''\n",
        "    y_hat = np.clip(y_hat, eps, 1 - eps)\n",
        "    BCE = -y * np.log(y_hat) - (1 - y) * np.log(1 - y_hat)     # Define BCE loss function\n",
        "    return BCE"
      ]
    },
    {
      "cell_type": "markdown",
      "metadata": {
        "id": "WY9DQPrJmvHZ"
      },
      "source": [
        "## NN Hyper Parameters"
      ]
    },
    {
      "cell_type": "code",
      "execution_count": null,
      "metadata": {
        "id": "qGCU_QYRnJap"
      },
      "outputs": [],
      "source": [
        "input_layer = X_train.shape[0] # 28X28 = 784\n",
        "hidden_layer = 32\n",
        "learning_rate = 1e-1\n",
        "epochs = 10"
      ]
    },
    {
      "cell_type": "markdown",
      "metadata": {
        "id": "M6SdHpc2m3vV"
      },
      "source": [
        "## Weight and Bias Initialization"
      ]
    },
    {
      "cell_type": "code",
      "execution_count": null,
      "metadata": {
        "colab": {
          "base_uri": "https://localhost:8080/"
        },
        "id": "IVRoMGxTnLZI",
        "outputId": "ed4d1627-e61a-4ff4-a231-b7c8f01fe075"
      },
      "outputs": [
        {
          "output_type": "stream",
          "name": "stdout",
          "text": [
            "(32, 784)\n",
            "(32, 1)\n",
            "(1, 32)\n",
            "(1, 1)\n"
          ]
        }
      ],
      "source": [
        "W1 = np.random.randn(hidden_layer, input_layer)\n",
        "b1 = np.zeros((hidden_layer, 1))\n",
        "W2 = np.random.randn(1, hidden_layer)\n",
        "b2 = np.zeros((1, 1))\n",
        "\n",
        "print(W1.shape)\n",
        "print(b1.shape)\n",
        "print(W2.shape)\n",
        "print(b2.shape)"
      ]
    },
    {
      "cell_type": "markdown",
      "metadata": {
        "id": "fp-IaWECn6Hu"
      },
      "source": [
        "## Training (15%)"
      ]
    },
    {
      "cell_type": "code",
      "execution_count": null,
      "metadata": {
        "colab": {
          "base_uri": "https://localhost:8080/"
        },
        "id": "4tdlcCGLDo7F",
        "outputId": "400441dd-ed09-44f8-8ac3-96e8c1789fc4"
      },
      "outputs": [
        {
          "output_type": "stream",
          "name": "stdout",
          "text": [
            "Epoch 0  Loss: 0.09645242548085385\n",
            "Epoch 1  Loss: 0.05837523352232311\n",
            "Epoch 2  Loss: 0.0448435506638181\n",
            "Epoch 3  Loss: 0.032530820314827014\n",
            "Epoch 4  Loss: 0.027290573627896966\n",
            "Epoch 5  Loss: 0.02667277445489315\n",
            "Epoch 6  Loss: 0.02105061705131483\n",
            "Epoch 7  Loss: 0.018309672431902044\n",
            "Epoch 8  Loss: 0.026514683711654274\n",
            "Epoch 9  Loss: 0.02525201568561191\n"
          ]
        }
      ],
      "source": [
        "X = X_train\n",
        "Y = Y_train\n",
        "loss_list = []\n",
        "epoch_list = []\n",
        "numOfTraining =  X.shape[1]\n",
        "\n",
        "sigmoid_vec_func = np.vectorize(sigmoid)\n",
        "sigmoid_prime_vec_func = np.vectorize(sigmoid_prime)\n",
        "\n",
        "for i in range(epochs):\n",
        "  avg_epoch_loss = 0\n",
        "  for j in range(numOfTraining):\n",
        "    # TODO :  Forward propagation\n",
        "    \n",
        "    Z1 = np.dot(W1, X[:,j].reshape(X.shape[0],1)) + b1 # DO NOT FORGET TO ADD THE BIAS\n",
        "    A1 = sigmoid_vec_func(Z1)\n",
        "    Z2 = np.dot(W2, A1) + b2\n",
        "    A2 = sigmoid(Z2)\n",
        "    Yout = int(Y[0,j])\n",
        "\n",
        "    # TODO: Compute loss\n",
        "    loss = log_loss(A2[0,0], Yout)\n",
        "    avg_epoch_loss = avg_epoch_loss + loss\n",
        "\n",
        "    # # TODO: Back propagation\n",
        "    #dL/dZ2 = dL/dA2 * dA2/dZ2 = dA2 * derivative of sigma(Z2)\n",
        "    dZ2 = A2 - Yout\n",
        "\n",
        "    #dL/dZ2 * dZ2/dW2 (of size 1X32) = dZ2 * A1 \n",
        "    dW2 = np.dot(dZ2, A1.T)\n",
        "\n",
        "    #dL/dZ2 * dZ2/dB2 (of size 1X1) = dZ2 * 1 \n",
        "    db2 = np.sum(dZ2, axis=0, keepdims=True)\n",
        "\n",
        "    #dZ2/dA1 * dL/dZ2 = W2 * dZ2\n",
        "    dA1 = np.dot(W2.T, dZ2)\n",
        "\n",
        "    # dA1 / dZ1 * dL / dA1 =  dA1 * derivative of sigma(A1)\n",
        "    dZ1 = dA1 * sigmoid_prime_vec_func(Z1)\n",
        "\n",
        "    # dZ1/dW1 * dL / dZ1 = dZ1 * x\n",
        "    dW1 = np.dot(dZ1, X[:,j].T.reshape((1, 784)))\n",
        "    # dZ1 / db1 * dL / dZ1  dZ1 * 1\n",
        "    db1 = np.sum(dZ1, axis=0, keepdims=True)\n",
        "\n",
        "    # TODO: Update weights\n",
        "    W2 -= learning_rate * dW2\n",
        "    b2 -= learning_rate * db2\n",
        "    W1 -= learning_rate * dW1\n",
        "    b1 -= learning_rate * db1\n",
        "    \n",
        "  avg_epoch_loss = avg_epoch_loss/numOfTraining\n",
        "  loss_list.append(avg_epoch_loss)\n",
        "  epoch_list.append(i)\n",
        "  print(\"Epoch\", i,\" Loss:\", avg_epoch_loss)"
      ]
    },
    {
      "cell_type": "markdown",
      "metadata": {
        "id": "5HV5g7j92Xfn"
      },
      "source": [
        "## Results of part 1"
      ]
    },
    {
      "cell_type": "markdown",
      "metadata": {
        "id": "TdgCk97534-B"
      },
      "source": [
        "### Loss Visualization"
      ]
    },
    {
      "cell_type": "code",
      "execution_count": null,
      "metadata": {
        "colab": {
          "base_uri": "https://localhost:8080/",
          "height": 300
        },
        "id": "RFo9NN5Q31X8",
        "outputId": "161752f5-7750-49c6-9010-d478de3ea4b9"
      },
      "outputs": [
        {
          "output_type": "execute_result",
          "data": {
            "text/plain": [
              "[<matplotlib.lines.Line2D at 0x7fe4cea6cd60>]"
            ]
          },
          "metadata": {},
          "execution_count": 163
        },
        {
          "output_type": "display_data",
          "data": {
            "text/plain": [
              "<Figure size 432x288 with 1 Axes>"
            ],
            "image/png": "[encoded data removed]"
          },
          "metadata": {
            "needs_background": "light"
          }
        }
      ],
      "source": [
        "import matplotlib.pyplot as plt\n",
        "plt.xlabel('Epoch Number')\n",
        "plt.ylabel(\"Loss\")\n",
        "plt.plot(epoch_list, loss_list)"
      ]
    },
    {
      "cell_type": "markdown",
      "metadata": {
        "id": "raBFclM5ploH"
      },
      "source": [
        "### Test your performance (15%)"
      ]
    },
    {
      "cell_type": "code",
      "execution_count": null,
      "metadata": {
        "id": "G2iJzBD4mhlC"
      },
      "outputs": [],
      "source": [
        "from sklearn.metrics import confusion_matrix , classification_report, ConfusionMatrixDisplay, accuracy_score\n",
        "import pandas as pd\n",
        "import numpy as np\n",
        "import matplotlib.pyplot as plt\n",
        "import seaborn as sns\n",
        "\n",
        "# Source code credit for this function: https://gist.github.com/shaypal5/94c53d765083101efc0240d776a23823\n",
        "def print_confusion_matrix(confusion_matrix, class_names, figsize = (10,7), fontsize=14):\n",
        "    \"\"\"Prints a confusion matrix, as returned by sklearn.metrics.confusion_matrix, as a heatmap.\n",
        "    \n",
        "    Arguments\n",
        "    ---------\n",
        "    confusion_matrix: numpy.ndarray\n",
        "        The numpy.ndarray object returned from a call to sklearn.metrics.confusion_matrix. \n",
        "        Similarly constructed ndarrays can also be used.\n",
        "    class_names: list\n",
        "        An ordered list of class names, in the order they index the given confusion matrix.\n",
        "    figsize: tuple\n",
        "        A 2-long tuple, the first value determining the horizontal size of the ouputted figure,\n",
        "        the second determining the vertical size. Defaults to (10,7).\n",
        "    fontsize: int\n",
        "        Font size for axes labels. Defaults to 14.\n",
        "        \n",
        "    Returns\n",
        "    -------\n",
        "    matplotlib.figure.Figure\n",
        "        The resulting confusion matrix figure\n",
        "    \"\"\"\n",
        "    df_cm = pd.DataFrame(\n",
        "        confusion_matrix, index=class_names, columns=class_names, \n",
        "    )\n",
        "    fig = plt.figure(figsize=figsize)\n",
        "    try:\n",
        "        heatmap = sns.heatmap(df_cm, annot=True, fmt=\"d\")\n",
        "    except ValueError:\n",
        "        raise ValueError(\"Confusion matrix values must be integers.\")\n",
        "    heatmap.yaxis.set_ticklabels(heatmap.yaxis.get_ticklabels(), rotation=0, ha='right', fontsize=fontsize)\n",
        "    heatmap.xaxis.set_ticklabels(heatmap.xaxis.get_ticklabels(), rotation=45, ha='right', fontsize=fontsize)\n",
        "    plt.ylabel('Truth')\n",
        "    plt.xlabel('Prediction')"
      ]
    },
    {
      "cell_type": "code",
      "execution_count": null,
      "metadata": {
        "colab": {
          "base_uri": "https://localhost:8080/",
          "height": 467
        },
        "id": "flfh-luxDs7Z",
        "outputId": "b208eddc-d184-45bc-8314-b362ca9a90c8"
      },
      "outputs": [
        {
          "output_type": "stream",
          "name": "stdout",
          "text": [
            "Achived Accuracy of:0.9860714285714286\n"
          ]
        },
        {
          "output_type": "display_data",
          "data": {
            "text/plain": [
              "<Figure size 720x504 with 2 Axes>"
            ],
            "image/png": "[encoded data removed]"
          },
          "metadata": {
            "needs_background": "light"
          }
        }
      ],
      "source": [
        "#TODO: Forward batch of examples\n",
        "X = X_test\n",
        "Y = Y_test\n",
        "\n",
        "Z1 = W1.dot(X) + b1 # DO NOT FORGET TO ADD THE BIAS\n",
        "A1 = sigmoid_vec_func(Z1)\n",
        "Z2 = W2.dot(A1) + b2\n",
        "A2 = sigmoid_vec_func(Z2)\n",
        "predictions = np.zeros((1,Y.shape[1]))\n",
        "labels = np.zeros((1,Y.shape[1]))\n",
        "\n",
        "# Check your predictions against the test's labels\n",
        "for i in range(Y.shape[1]):\n",
        "  if (A2[0,i] > 0.5): \n",
        "    predictions[0,i] = 1\n",
        "  else:\n",
        "    predictions[0,i] = 0\n",
        "\n",
        "  labels[0,i] = Y[0,i]\n",
        "\n",
        "# Print the confusion matrix In order to test your performance\n",
        "print_confusion_matrix(confusion_matrix(predictions.T, labels.T), ['0', '1'])\n",
        "print(f\"Achived Accuracy of:{accuracy_score(labels.T, predictions.T)}\")"
      ]
    },
    {
      "cell_type": "code",
      "execution_count": null,
      "metadata": {
        "id": "gAj_5W2wVUrI",
        "colab": {
          "base_uri": "https://localhost:8080/",
          "height": 1000
        },
        "outputId": "c783714b-abaf-4f89-b26d-fb53d10166c8"
      },
      "outputs": [
        {
          "output_type": "display_data",
          "data": {
            "text/plain": [
              "<Figure size 432x288 with 1 Axes>"
            ],
            "image/png": "[encoded data removed]"
          },
          "metadata": {
            "needs_background": "light"
          }
        },
        {
          "output_type": "stream",
          "name": "stdout",
          "text": [
            "Real= 0 Predicted= [[4.59237422e-05]]\n"
          ]
        },
        {
          "output_type": "display_data",
          "data": {
            "text/plain": [
              "<Figure size 432x288 with 1 Axes>"
            ],
            "image/png": "[encoded data removed]"
          },
          "metadata": {
            "needs_background": "light"
          }
        },
        {
          "output_type": "stream",
          "name": "stdout",
          "text": [
            "Real= 0 Predicted= [[0.00057917]]\n"
          ]
        },
        {
          "output_type": "display_data",
          "data": {
            "text/plain": [
              "<Figure size 432x288 with 1 Axes>"
            ],
            "image/png": "[encoded data removed]"
          },
          "metadata": {
            "needs_background": "light"
          }
        },
        {
          "output_type": "stream",
          "name": "stdout",
          "text": [
            "Real= 0 Predicted= [[6.32844794e-05]]\n"
          ]
        },
        {
          "output_type": "display_data",
          "data": {
            "text/plain": [
              "<Figure size 432x288 with 1 Axes>"
            ],
            "image/png": "[encoded data removed]"
          },
          "metadata": {
            "needs_background": "light"
          }
        },
        {
          "output_type": "stream",
          "name": "stdout",
          "text": [
            "Real= 1 Predicted= [[0.99873114]]\n"
          ]
        },
        {
          "output_type": "display_data",
          "data": {
            "text/plain": [
              "<Figure size 432x288 with 1 Axes>"
            ],
            "image/png": "[encoded data removed]"
          },
          "metadata": {
            "needs_background": "light"
          }
        },
        {
          "output_type": "stream",
          "name": "stdout",
          "text": [
            "Real= 1 Predicted= [[0.99993514]]\n"
          ]
        },
        {
          "output_type": "display_data",
          "data": {
            "text/plain": [
              "<Figure size 432x288 with 1 Axes>"
            ],
            "image/png": "[encoded data removed]"
          },
          "metadata": {
            "needs_background": "light"
          }
        },
        {
          "output_type": "stream",
          "name": "stdout",
          "text": [
            "Real= 1 Predicted= [[0.99999768]]\n"
          ]
        },
        {
          "output_type": "display_data",
          "data": {
            "text/plain": [
              "<Figure size 432x288 with 1 Axes>"
            ],
            "image/png": "[encoded data removed]"
          },
          "metadata": {
            "needs_background": "light"
          }
        },
        {
          "output_type": "stream",
          "name": "stdout",
          "text": [
            "Real= 0 Predicted= [[0.0082441]]\n"
          ]
        },
        {
          "output_type": "display_data",
          "data": {
            "text/plain": [
              "<Figure size 432x288 with 1 Axes>"
            ],
            "image/png": "[encoded data removed]"
          },
          "metadata": {
            "needs_background": "light"
          }
        },
        {
          "output_type": "stream",
          "name": "stdout",
          "text": [
            "Real= 0 Predicted= [[0.00014257]]\n"
          ]
        },
        {
          "output_type": "display_data",
          "data": {
            "text/plain": [
              "<Figure size 432x288 with 1 Axes>"
            ],
            "image/png": "[encoded data removed]"
          },
          "metadata": {
            "needs_background": "light"
          }
        },
        {
          "output_type": "stream",
          "name": "stdout",
          "text": [
            "Real= 1 Predicted= [[0.99956398]]\n"
          ]
        },
        {
          "output_type": "display_data",
          "data": {
            "text/plain": [
              "<Figure size 432x288 with 1 Axes>"
            ],
            "image/png": "[encoded data removed]"
          },
          "metadata": {
            "needs_background": "light"
          }
        },
        {
          "output_type": "stream",
          "name": "stdout",
          "text": [
            "Real= 1 Predicted= [[0.99967244]]\n"
          ]
        }
      ],
      "source": [
        "#TODO: SHOW VISUALLY RESULTS ON 10 TEST EXAMPLES\n",
        "%matplotlib inline\n",
        "from numpy import random\n",
        "\n",
        "X = X_test\n",
        "Y = Y_test\n",
        "\n",
        "for _ in range(10):\n",
        "  i = random.randint(2000)\n",
        "  plt.imshow(np.asmatrix(X_test[:,i].reshape(28,28),float), cmap = matplotlib.cm.binary)\n",
        "  plt.axis(\"off\")\n",
        "  plt.show()\n",
        "\n",
        "  Z1 = np.dot(W1, X[:,i].reshape(X.shape[0], 1)) + b1 # DO NOT FORGET TO ADD THE BIAS\n",
        "  A1 = sigmoid_vec_func(Z1)\n",
        "  Z2 = np.dot(W2, A1) + b2\n",
        "  A2 = sigmoid(Z2)\n",
        "  Yout = int(Y[0,i])\n",
        "  print(\"Real=\", Yout, \"Predicted=\",A2)"
      ]
    },
    {
      "cell_type": "markdown",
      "metadata": {
        "collapsed": false,
        "id": "EU8d54pEU8GF"
      },
      "source": [
        "# Part 2 : Neural Network with Tensorflow Keras (50%)"
      ]
    },
    {
      "cell_type": "markdown",
      "metadata": {
        "id": "UPCSaccR32De"
      },
      "source": [
        "## Import Libraries"
      ]
    },
    {
      "cell_type": "code",
      "execution_count": null,
      "metadata": {
        "id": "RyvoZdAXU8GG"
      },
      "outputs": [],
      "source": [
        "import tensorflow as tf\n",
        "from tensorflow import keras\n",
        "from keras.datasets import mnist\n",
        "import matplotlib.pyplot as plt"
      ]
    },
    {
      "cell_type": "markdown",
      "metadata": {
        "id": "Q1WPjPPR6Wpr"
      },
      "source": [
        "## Load Dataset"
      ]
    },
    {
      "cell_type": "code",
      "execution_count": null,
      "metadata": {
        "colab": {
          "base_uri": "https://localhost:8080/",
          "height": 408
        },
        "id": "xSM3px5EU8GG",
        "outputId": "ebbf837e-e252-47b4-bf0b-daf5d1c2eac8"
      },
      "outputs": [
        {
          "output_type": "stream",
          "name": "stdout",
          "text": [
            "Downloading data from https://storage.googleapis.com/tensorflow/tf-keras-datasets/train-labels-idx1-ubyte.gz\n",
            "29515/29515 [==============================] - 0s 0us/step\n",
            "Downloading data from https://storage.googleapis.com/tensorflow/tf-keras-datasets/train-images-idx3-ubyte.gz\n",
            "26421880/26421880 [==============================] - 0s 0us/step\n",
            "Downloading data from https://storage.googleapis.com/tensorflow/tf-keras-datasets/t10k-labels-idx1-ubyte.gz\n",
            "5148/5148 [==============================] - 0s 0us/step\n",
            "Downloading data from https://storage.googleapis.com/tensorflow/tf-keras-datasets/t10k-images-idx3-ubyte.gz\n",
            "4422102/4422102 [==============================] - 0s 0us/step\n"
          ]
        },
        {
          "output_type": "display_data",
          "data": {
            "text/plain": [
              "<Figure size 432x288 with 1 Axes>"
            ],
            "image/png": "[encoded data removed]"
          },
          "metadata": {
            "needs_background": "light"
          }
        }
      ],
      "source": [
        "fashion_mnist = keras.datasets.fashion_mnist\n",
        "\n",
        "(X_train, y_train), (X_test, y_test) = fashion_mnist.load_data()\n",
        "plt.imshow(X_train[1])\n",
        "plt.show()"
      ]
    },
    {
      "cell_type": "markdown",
      "metadata": {
        "collapsed": false,
        "id": "6Sm0udbSU8GG"
      },
      "source": [
        "## Data preprocessing"
      ]
    },
    {
      "cell_type": "markdown",
      "metadata": {
        "collapsed": false,
        "id": "ZZAUfLmVU8GH"
      },
      "source": [
        "### Feature scaling"
      ]
    },
    {
      "cell_type": "code",
      "execution_count": null,
      "metadata": {
        "id": "hzqQphx7U8GH"
      },
      "outputs": [],
      "source": [
        "X_train = X_train.astype(float) / 255.\n",
        "X_test = X_test.astype(float) / 255."
      ]
    },
    {
      "cell_type": "markdown",
      "metadata": {
        "id": "YSzvJ196GkvO"
      },
      "source": [
        "### Select two classes"
      ]
    },
    {
      "cell_type": "code",
      "execution_count": null,
      "metadata": {
        "id": "yjpHGlrmGlbe"
      },
      "outputs": [],
      "source": [
        "def select_classes(X_train, y_train, X_test, y_test):\n",
        "    selected_classes = lambda tag: True if tag in [0, 1] else False\n",
        "    X_train = X_train[[selected_classes(yi) for yi in y_train]]\n",
        "    y_train = y_train[[selected_classes(yi) for yi in y_train]]\n",
        "\n",
        "    X_test = X_test[[selected_classes(yi) for yi in y_test]]\n",
        "    y_test = y_test[[selected_classes(yi) for yi in y_test]]\n",
        "    return X_train, y_train, X_test, y_test\n",
        "\n",
        "X_train, y_train, X_test, y_test = select_classes(X_train, y_train, X_test, y_test)"
      ]
    },
    {
      "cell_type": "markdown",
      "metadata": {
        "collapsed": false,
        "id": "FlCtN7Y-U8GH"
      },
      "source": [
        "So we need to convert 1-dimensional class arrays to multi-dimensional class matrices<br>\n",
        "Read about np_utils here: https://www.tensorflow.org/api_docs/python/tf/keras/utils/to_categorical"
      ]
    },
    {
      "cell_type": "code",
      "execution_count": null,
      "metadata": {
        "id": "PrJ6v0ACU8GI"
      },
      "outputs": [],
      "source": [
        "from keras.utils import np_utils\n",
        "num_of_classes = 2\n",
        "y_train = np_utils.to_categorical(y_train, num_classes=num_of_classes)\n",
        "y_test = np_utils.to_categorical(y_test, num_classes=num_of_classes)"
      ]
    },
    {
      "cell_type": "code",
      "source": [
        "print(f\"X_train shape is: {X_train.shape}\")\n",
        "print(f\"X_test shape is: {X_test.shape}\")\n",
        "print(f\"y_train shape is: {y_train.shape}\")\n",
        "print(f\"y_test shape is: {y_test.shape}\")"
      ],
      "metadata": {
        "colab": {
          "base_uri": "https://localhost:8080/"
        },
        "id": "fQpD7XlXB7ye",
        "outputId": "0382cce7-8b85-4f76-f26a-afeadb5d41d9"
      },
      "execution_count": null,
      "outputs": [
        {
          "output_type": "stream",
          "name": "stdout",
          "text": [
            "X_train shape is: (12000, 28, 28)\n",
            "X_test shape is: (2000, 28, 28)\n",
            "y_train shape is: (12000, 2)\n",
            "y_test shape is: (2000, 2)\n"
          ]
        }
      ]
    },
    {
      "cell_type": "markdown",
      "metadata": {
        "collapsed": false,
        "id": "jwIzE9kSU8GI"
      },
      "source": [
        "### Build the network layers - Base Model\n",
        "We chose batch size of 32 because it's a standard. <br>\n",
        "sigmoind is considered a good and popular activation function. <br>\n",
        "Our network structure is 784 -> 40 -> 2. <br>\n",
        "the inner amount of neurons was chosen so that there is a proportional reduction in size since 784 / 40 ~= 40 / 2. <br>"
      ]
    },
    {
      "cell_type": "code",
      "execution_count": null,
      "metadata": {
        "id": "U3IepEv6U8GI",
        "colab": {
          "base_uri": "https://localhost:8080/"
        },
        "outputId": "4dfc0c6c-30f0-4d7a-e15b-f7c810a38df5"
      },
      "outputs": [
        {
          "output_type": "stream",
          "name": "stdout",
          "text": [
            "Model: \"sequential_1\"\n",
            "_________________________________________________________________\n",
            " Layer (type)                Output Shape              Param #   \n",
            "=================================================================\n",
            " flatten_1 (Flatten)         (32, 784)                 0         \n",
            "                                                                 \n",
            " dense_2 (Dense)             (32, 150)                 117750    \n",
            "                                                                 \n",
            " dense_3 (Dense)             (32, 2)                   302       \n",
            "                                                                 \n",
            "=================================================================\n",
            "Total params: 118,052\n",
            "Trainable params: 118,052\n",
            "Non-trainable params: 0\n",
            "_________________________________________________________________\n",
            "None\n"
          ]
        }
      ],
      "source": [
        "from keras.models import Sequential\n",
        "from keras.layers import Flatten, Dense\n",
        "\n",
        "model = Sequential()\n",
        "model.add(Flatten())\n",
        "model.add(Dense(150, activation='sigmoid'))\n",
        "model.add(Dense(2, activation='softmax'))\n",
        "\n",
        "batch_size = 32\n",
        "input_shape = (batch_size,) +  X_train[0].shape\n",
        "model.build(input_shape)\n",
        "print(model.summary())"
      ]
    },
    {
      "cell_type": "markdown",
      "metadata": {
        "collapsed": false,
        "id": "VH6cuNVOU8GJ"
      },
      "source": [
        "#### Build the Optimizer\n",
        "Read about the Optimizer here: https://keras.io/api/optimizers/"
      ]
    },
    {
      "cell_type": "code",
      "execution_count": null,
      "metadata": {
        "id": "2Xndbe19U8GJ"
      },
      "outputs": [],
      "source": [
        "from keras.optimizers import SGD\n",
        "opt = keras.optimizers.SGD(learning_rate=0.01)\n",
        "model.compile(optimizer=opt, loss='binary_crossentropy',metrics=['accuracy'])"
      ]
    },
    {
      "cell_type": "code",
      "source": [
        "from tensorflow.keras.callbacks import ModelCheckpoint\n",
        "\n",
        "checkpoint_path = \"saved_models/best_conf.ckpt\"\n",
        "checkpoint = ModelCheckpoint(checkpoint_path,\n",
        "                             monitor='val_accuracy',\n",
        "                             verbose=False,\n",
        "                             save_best_only=True,\n",
        "                             save_weights_only=True,\n",
        "                             mode='max')"
      ],
      "metadata": {
        "id": "QEjumKOt9Os-"
      },
      "execution_count": null,
      "outputs": []
    },
    {
      "cell_type": "markdown",
      "metadata": {
        "collapsed": false,
        "id": "c7kXhHkoU8GJ"
      },
      "source": [
        "#### Training\n",
        "Use the fit method to train your model, then store the results within the variable \"history\".\n"
      ]
    },
    {
      "cell_type": "code",
      "execution_count": null,
      "metadata": {
        "id": "Sq1KOMEeU8GJ",
        "colab": {
          "base_uri": "https://localhost:8080/"
        },
        "outputId": "c923ecaa-9ede-4763-bb5a-2c2c19eed88f"
      },
      "outputs": [
        {
          "output_type": "stream",
          "name": "stdout",
          "text": [
            "Epoch 1/10\n",
            "375/375 [==============================] - 2s 4ms/step - loss: 0.4833 - accuracy: 0.8882 - val_loss: 0.3347 - val_accuracy: 0.9295\n",
            "Epoch 2/10\n",
            "375/375 [==============================] - 1s 3ms/step - loss: 0.2612 - accuracy: 0.9521 - val_loss: 0.2148 - val_accuracy: 0.9480\n",
            "Epoch 3/10\n",
            "375/375 [==============================] - 1s 3ms/step - loss: 0.1842 - accuracy: 0.9601 - val_loss: 0.1682 - val_accuracy: 0.9550\n",
            "Epoch 4/10\n",
            "375/375 [==============================] - 1s 2ms/step - loss: 0.1502 - accuracy: 0.9638 - val_loss: 0.1439 - val_accuracy: 0.9575\n",
            "Epoch 5/10\n",
            "375/375 [==============================] - 1s 2ms/step - loss: 0.1306 - accuracy: 0.9651 - val_loss: 0.1278 - val_accuracy: 0.9600\n",
            "Epoch 6/10\n",
            "375/375 [==============================] - 1s 3ms/step - loss: 0.1169 - accuracy: 0.9675 - val_loss: 0.1160 - val_accuracy: 0.9635\n",
            "Epoch 7/10\n",
            "375/375 [==============================] - 1s 3ms/step - loss: 0.1062 - accuracy: 0.9694 - val_loss: 0.1070 - val_accuracy: 0.9660\n",
            "Epoch 8/10\n",
            "375/375 [==============================] - 1s 2ms/step - loss: 0.0978 - accuracy: 0.9710 - val_loss: 0.0990 - val_accuracy: 0.9660\n",
            "Epoch 9/10\n",
            "375/375 [==============================] - 1s 3ms/step - loss: 0.0905 - accuracy: 0.9722 - val_loss: 0.0926 - val_accuracy: 0.9680\n",
            "Epoch 10/10\n",
            "375/375 [==============================] - 1s 3ms/step - loss: 0.0845 - accuracy: 0.9739 - val_loss: 0.0872 - val_accuracy: 0.9685\n"
          ]
        }
      ],
      "source": [
        "history = model.fit(X_train, y_train,\n",
        "                    epochs=10, \n",
        "                    batch_size=batch_size,\n",
        "                    validation_data=(X_test, y_test),\n",
        "                    callbacks=[checkpoint],\n",
        "                    verbose=True,\n",
        "                    shuffle=True)"
      ]
    },
    {
      "cell_type": "markdown",
      "metadata": {
        "id": "zS3_ZnXk450S"
      },
      "source": [
        "#### Save Trained model (weights)\n",
        "Read about Save and load models in tensorflow.keras here: [https://www.tensorflow.org/tutorials/keras/save_and_load](https://www.tensorflow.org/tutorials/keras/save_and_load)\n"
      ]
    },
    {
      "cell_type": "code",
      "execution_count": null,
      "metadata": {
        "id": "Pb66kyHa5c-l",
        "colab": {
          "base_uri": "https://localhost:8080/"
        },
        "outputId": "26daed4e-59f7-441a-e656-8eff1525021b"
      },
      "outputs": [
        {
          "output_type": "execute_result",
          "data": {
            "text/plain": [
              "<tensorflow.python.training.tracking.util.CheckpointLoadStatus at 0x7f37a7577880>"
            ]
          },
          "metadata": {},
          "execution_count": 16
        }
      ],
      "source": [
        "# SAVE THE TRAINED MODEL\n",
        "model.load_weights(\"saved_models/best_conf.ckpt\")"
      ]
    },
    {
      "cell_type": "markdown",
      "metadata": {
        "collapsed": false,
        "id": "bkNYD1oRU8GK"
      },
      "source": [
        "#### Loss and Accuracy Visualization\n",
        "Show  on plot the loss during training"
      ]
    },
    {
      "cell_type": "code",
      "execution_count": null,
      "metadata": {
        "id": "iM8si3EBU8GK",
        "colab": {
          "base_uri": "https://localhost:8080/"
        },
        "outputId": "a761795f-ba7f-4eb6-b6fd-32c1927f1d7a"
      },
      "outputs": [
        {
          "output_type": "display_data",
          "data": {
            "text/plain": [
              "<Figure size 432x288 with 1 Axes>"
            ],
            "image/png": "[encoded data removed]"
          },
          "metadata": {
            "needs_background": "light"
          }
        }
      ],
      "source": [
        "import matplotlib.pyplot as plt\n",
        "plt.plot(history.history['loss'])\n",
        "plt.title('Train Loss')\n",
        "plt.ylabel('Loss')\n",
        "plt.xlabel('Epoch')\n",
        "plt.legend(['Train loss'], loc='upper left')\n",
        "plt.show()"
      ]
    },
    {
      "cell_type": "markdown",
      "metadata": {
        "collapsed": false,
        "id": "w4JBO5zuU8GK"
      },
      "source": [
        "Show  on plot the accuracy during training"
      ]
    },
    {
      "cell_type": "code",
      "execution_count": null,
      "metadata": {
        "id": "hOCsxuuTU8GK",
        "colab": {
          "base_uri": "https://localhost:8080/"
        },
        "outputId": "3f46184c-6142-43a2-cb2a-1dc4928f8514"
      },
      "outputs": [
        {
          "output_type": "display_data",
          "data": {
            "text/plain": [
              "<Figure size 432x288 with 1 Axes>"
            ],
            "image/png": "[encoded data removed]"
          },
          "metadata": {
            "needs_background": "light"
          }
        }
      ],
      "source": [
        "plt.plot(history.history['accuracy'])\n",
        "plt.title('Model Accuracy')\n",
        "plt.ylabel('Accuracy')\n",
        "plt.xlabel('Epoch')\n",
        "plt.legend(['train'], loc='upper left')\n",
        "plt.show()"
      ]
    },
    {
      "cell_type": "markdown",
      "metadata": {
        "collapsed": false,
        "id": "SAUlD1ypU8GL"
      },
      "source": [
        "#### Test\n",
        "Test your model (Show accuracy by comparing the prediction VS the test label)"
      ]
    },
    {
      "cell_type": "code",
      "execution_count": null,
      "metadata": {
        "id": "rukB7UefU8GL",
        "colab": {
          "base_uri": "https://localhost:8080/"
        },
        "outputId": "c4c5e655-1b22-4671-97f2-b9ff3826abb4"
      },
      "outputs": [
        {
          "output_type": "stream",
          "name": "stdout",
          "text": [
            "63/63 [==============================] - 0s 2ms/step\n",
            "accuracy is: 96.85\n"
          ]
        }
      ],
      "source": [
        "from sklearn.metrics import accuracy_score\n",
        "import numpy as np\n",
        "\n",
        "y_pred = model.predict(X_test)\n",
        "y_pred = np.argmax(y_pred, axis=1)\n",
        "y_actual = np.argmax(y_test, axis=1)\n",
        "is_correct = []\n",
        "\n",
        "for i, pred in enumerate(y_pred):\n",
        "    is_correct += [1 if y_actual[i] == y_pred[i] else 0]\n",
        "\n",
        "accuracy =  100 * sum(is_correct) / len(is_correct)\n",
        "print(f\"accuracy is: {accuracy}\")"
      ]
    },
    {
      "cell_type": "markdown",
      "metadata": {
        "collapsed": false,
        "id": "ClevveJ3U8GL"
      },
      "source": [
        "#### Model Evaluation\n",
        "Show the model evaluation by presenting the confusion metrix in a representative way<br>\n",
        "Read about confusion metrix visualization here: https://scikit-learn.org/stable/auto_examples/model_selection/plot_confusion_matrix.html"
      ]
    },
    {
      "cell_type": "code",
      "execution_count": null,
      "metadata": {
        "id": "KHQVaRZKU8GL",
        "colab": {
          "base_uri": "https://localhost:8080/",
          "height": 279
        },
        "outputId": "320223e2-a75a-427b-ef0f-52344bfd6e19"
      },
      "outputs": [
        {
          "output_type": "display_data",
          "data": {
            "text/plain": [
              "<Figure size 288x288 with 1 Axes>"
            ],
            "image/png": "[encoded data removed]"
          },
          "metadata": {
            "needs_background": "light"
          }
        }
      ],
      "source": [
        "from sklearn.metrics import confusion_matrix\n",
        "import seaborn as sns\n",
        "def plot_conf_mat(conf_mat):\n",
        "    fig, ax = plt.subplots(figsize=(4,4))\n",
        "    ax = sns.heatmap(conf_mat,\n",
        "                    annot=True,\n",
        "                    cbar=False,\n",
        "                    fmt='d')\n",
        "    plt.xlabel(\"Predicted label\")\n",
        "    plt.ylabel(\"Actual label\")\n",
        "\n",
        "conf_mat = confusion_matrix(y_actual, y_pred)\n",
        "plot_conf_mat(conf_mat)    "
      ]
    },
    {
      "cell_type": "markdown",
      "source": [
        "**Conclusion:** <br>\n",
        "The results are impressive with 97% accuracy!"
      ],
      "metadata": {
        "id": "fFV4KXWl3k4d"
      }
    },
    {
      "cell_type": "markdown",
      "source": [
        "###First Experiment: <br>\n",
        "Adding a new hidden layer and changing the activation function. <br>\n",
        "Now the activation is with relu and the network structure is: 784 -> 150 -> 40 -> 2."
      ],
      "metadata": {
        "id": "EcdaQs5U6SyM"
      }
    },
    {
      "cell_type": "code",
      "source": [
        "from keras.models import Sequential\n",
        "from keras.layers import Flatten, Dense\n",
        "\n",
        "model = Sequential()\n",
        "model.add(Flatten())\n",
        "model.add(Dense(150, activation='relu'))\n",
        "model.add(Dense(40, activation='relu'))\n",
        "model.add(Dense(2, activation='softmax'))\n",
        "\n",
        "batch_size = 32\n",
        "input_shape = (batch_size,) +  X_train[0].shape\n",
        "model.build(input_shape)\n",
        "print(model.summary())"
      ],
      "metadata": {
        "colab": {
          "base_uri": "https://localhost:8080/"
        },
        "id": "xMRGJr7d5n5Z",
        "outputId": "75157ed8-c2ef-421a-b624-c03f4702f3e6"
      },
      "execution_count": null,
      "outputs": [
        {
          "output_type": "stream",
          "name": "stdout",
          "text": [
            "Model: \"sequential_2\"\n",
            "_________________________________________________________________\n",
            " Layer (type)                Output Shape              Param #   \n",
            "=================================================================\n",
            " flatten_2 (Flatten)         (32, 784)                 0         \n",
            "                                                                 \n",
            " dense_4 (Dense)             (32, 150)                 117750    \n",
            "                                                                 \n",
            " dense_5 (Dense)             (32, 40)                  6040      \n",
            "                                                                 \n",
            " dense_6 (Dense)             (32, 2)                   82        \n",
            "                                                                 \n",
            "=================================================================\n",
            "Total params: 123,872\n",
            "Trainable params: 123,872\n",
            "Non-trainable params: 0\n",
            "_________________________________________________________________\n",
            "None\n"
          ]
        }
      ]
    },
    {
      "cell_type": "code",
      "source": [
        "from keras.optimizers import SGD\n",
        "opt = keras.optimizers.SGD(learning_rate=0.01)\n",
        "model.compile(optimizer=opt, loss='binary_crossentropy',metrics=['accuracy'])"
      ],
      "metadata": {
        "id": "Mv4yQvJW5n8v"
      },
      "execution_count": null,
      "outputs": []
    },
    {
      "cell_type": "code",
      "source": [
        "from tensorflow.keras.callbacks import ModelCheckpoint\n",
        "\n",
        "checkpoint = ModelCheckpoint(checkpoint_path,\n",
        "                             monitor='val_accuracy',\n",
        "                             verbose=False,\n",
        "                             save_best_only=True,\n",
        "                             save_weights_only=True,\n",
        "                             mode='max')"
      ],
      "metadata": {
        "id": "JQX_e6mF5oBt"
      },
      "execution_count": null,
      "outputs": []
    },
    {
      "cell_type": "code",
      "source": [
        "history = model.fit(X_train, y_train,\n",
        "                    epochs=10, \n",
        "                    batch_size=batch_size,\n",
        "                    validation_data=(X_test, y_test),\n",
        "                    callbacks=[checkpoint],\n",
        "                    verbose=True,\n",
        "                    shuffle=True)"
      ],
      "metadata": {
        "colab": {
          "base_uri": "https://localhost:8080/"
        },
        "id": "NzpmgS0_5oD9",
        "outputId": "84ae46eb-a518-498a-f9fc-2714628c411e"
      },
      "execution_count": null,
      "outputs": [
        {
          "output_type": "stream",
          "name": "stdout",
          "text": [
            "Epoch 1/10\n",
            "375/375 [==============================] - 1s 3ms/step - loss: 0.2143 - accuracy: 0.9507 - val_loss: 0.0994 - val_accuracy: 0.9665\n",
            "Epoch 2/10\n",
            "375/375 [==============================] - 1s 3ms/step - loss: 0.0783 - accuracy: 0.9758 - val_loss: 0.0686 - val_accuracy: 0.9785\n",
            "Epoch 3/10\n",
            "375/375 [==============================] - 1s 3ms/step - loss: 0.0598 - accuracy: 0.9808 - val_loss: 0.0582 - val_accuracy: 0.9810\n",
            "Epoch 4/10\n",
            "375/375 [==============================] - 1s 3ms/step - loss: 0.0517 - accuracy: 0.9827 - val_loss: 0.0532 - val_accuracy: 0.9820\n",
            "Epoch 5/10\n",
            "375/375 [==============================] - 1s 3ms/step - loss: 0.0478 - accuracy: 0.9843 - val_loss: 0.0501 - val_accuracy: 0.9830\n",
            "Epoch 6/10\n",
            "375/375 [==============================] - 1s 3ms/step - loss: 0.0447 - accuracy: 0.9855 - val_loss: 0.0480 - val_accuracy: 0.9815\n",
            "Epoch 7/10\n",
            "375/375 [==============================] - 1s 3ms/step - loss: 0.0429 - accuracy: 0.9862 - val_loss: 0.0460 - val_accuracy: 0.9840\n",
            "Epoch 8/10\n",
            "375/375 [==============================] - 1s 3ms/step - loss: 0.0411 - accuracy: 0.9864 - val_loss: 0.0462 - val_accuracy: 0.9820\n",
            "Epoch 9/10\n",
            "375/375 [==============================] - 1s 3ms/step - loss: 0.0392 - accuracy: 0.9874 - val_loss: 0.0434 - val_accuracy: 0.9830\n",
            "Epoch 10/10\n",
            "375/375 [==============================] - 1s 3ms/step - loss: 0.0380 - accuracy: 0.9875 - val_loss: 0.0466 - val_accuracy: 0.9820\n"
          ]
        }
      ]
    },
    {
      "cell_type": "code",
      "execution_count": null,
      "metadata": {
        "colab": {
          "base_uri": "https://localhost:8080/"
        },
        "outputId": "527a4ffe-065a-411f-aa2a-abb18c4a29e1",
        "id": "fpDXYPik9P3r"
      },
      "outputs": [
        {
          "output_type": "execute_result",
          "data": {
            "text/plain": [
              "<tensorflow.python.training.tracking.util.CheckpointLoadStatus at 0x7f379f45b8b0>"
            ]
          },
          "metadata": {},
          "execution_count": 25
        }
      ],
      "source": [
        "# SAVE THE TRAINED MODEL\n",
        "model.load_weights(\"saved_models/best_conf.ckpt\")"
      ]
    },
    {
      "cell_type": "code",
      "source": [
        "import matplotlib.pyplot as plt\n",
        "plt.plot(history.history['loss'])\n",
        "plt.title('Train Loss')\n",
        "plt.ylabel('Loss')\n",
        "plt.xlabel('Epoch')\n",
        "plt.legend(['Train loss'], loc='upper left')\n",
        "plt.show()"
      ],
      "metadata": {
        "colab": {
          "base_uri": "https://localhost:8080/",
          "height": 295
        },
        "id": "A190eRxa6kv8",
        "outputId": "d03009ea-badc-46e4-fce2-dfdd0bc16491"
      },
      "execution_count": null,
      "outputs": [
        {
          "output_type": "display_data",
          "data": {
            "text/plain": [
              "<Figure size 432x288 with 1 Axes>"
            ],
            "image/png": "[encoded data removed]"
          },
          "metadata": {
            "needs_background": "light"
          }
        }
      ]
    },
    {
      "cell_type": "code",
      "source": [
        "plt.plot(history.history['accuracy'])\n",
        "plt.title('Model Accuracy')\n",
        "plt.ylabel('Accuracy')\n",
        "plt.xlabel('Epoch')\n",
        "plt.legend(['train'], loc='upper left')\n",
        "plt.show()"
      ],
      "metadata": {
        "colab": {
          "base_uri": "https://localhost:8080/",
          "height": 295
        },
        "id": "ubWp8ZeH6k1f",
        "outputId": "76444f20-14a7-45b3-ab9b-fb88ca595477"
      },
      "execution_count": null,
      "outputs": [
        {
          "output_type": "display_data",
          "data": {
            "text/plain": [
              "<Figure size 432x288 with 1 Axes>"
            ],
            "image/png": "[encoded data removed]"
          },
          "metadata": {
            "needs_background": "light"
          }
        }
      ]
    },
    {
      "cell_type": "code",
      "source": [
        "from sklearn.metrics import accuracy_score\n",
        "import numpy as np\n",
        "\n",
        "y_pred = model.predict(X_test)\n",
        "y_pred = np.argmax(y_pred, axis=1)\n",
        "y_actual = np.argmax(y_test, axis=1)\n",
        "is_correct = []\n",
        "\n",
        "for i, pred in enumerate(y_pred):\n",
        "    is_correct += [1 if y_actual[i] == y_pred[i] else 0]\n",
        "\n",
        "accuracy =  100 * sum(is_correct) / len(is_correct)\n",
        "print(f\"accuracy is: {accuracy}\")"
      ],
      "metadata": {
        "colab": {
          "base_uri": "https://localhost:8080/"
        },
        "id": "Qq2qmQdm66w3",
        "outputId": "2045940f-ffc8-4770-d671-885d9e94cf85"
      },
      "execution_count": null,
      "outputs": [
        {
          "output_type": "stream",
          "name": "stdout",
          "text": [
            "63/63 [==============================] - 0s 1ms/step\n",
            "accuracy is: 98.4\n"
          ]
        }
      ]
    },
    {
      "cell_type": "code",
      "source": [
        "from sklearn.metrics import confusion_matrix\n",
        "import seaborn as sns\n",
        "def plot_conf_mat(conf_mat):\n",
        "    fig, ax = plt.subplots(figsize=(4,4))\n",
        "    ax = sns.heatmap(conf_mat,\n",
        "                    annot=True,\n",
        "                    cbar=False,\n",
        "                    fmt='d')\n",
        "    plt.xlabel(\"Predicted label\")\n",
        "    plt.ylabel(\"Actual label\")\n",
        "\n",
        "conf_mat = confusion_matrix(y_actual, y_pred)\n",
        "plot_conf_mat(conf_mat)  "
      ],
      "metadata": {
        "colab": {
          "base_uri": "https://localhost:8080/",
          "height": 279
        },
        "id": "PcsZdaIQ6622",
        "outputId": "6d6c2dad-2504-40ab-ab48-87c6df9f9b9d"
      },
      "execution_count": null,
      "outputs": [
        {
          "output_type": "display_data",
          "data": {
            "text/plain": [
              "<Figure size 288x288 with 1 Axes>"
            ],
            "image/png": "[encoded data removed]"
          },
          "metadata": {
            "needs_background": "light"
          }
        }
      ]
    },
    {
      "cell_type": "markdown",
      "source": [
        "**Conclusion:** <br>\n",
        "The results are impressive with 98.45% accuracy! <br>\n",
        "This experiment turned out to achieve higher results than the base model."
      ],
      "metadata": {
        "id": "r5v6fJpW6ql5"
      }
    },
    {
      "cell_type": "markdown",
      "source": [
        "###Second Experiment:\n",
        "Now we increased the amount of epochs to 12 and chose Adam optimizer instead of SGD."
      ],
      "metadata": {
        "id": "wXvdU1Rl8DSz"
      }
    },
    {
      "cell_type": "code",
      "source": [
        "from keras.models import Sequential\n",
        "from keras.layers import Flatten, Dense\n",
        "\n",
        "model = Sequential()\n",
        "model.add(Flatten())\n",
        "model.add(Dense(150, activation='relu'))\n",
        "model.add(Dense(40, activation='relu'))\n",
        "model.add(Dense(2, activation='softmax'))\n",
        "\n",
        "batch_size = 32\n",
        "input_shape = (batch_size,) +  X_train[0].shape\n",
        "model.build(input_shape)\n",
        "print(model.summary())"
      ],
      "metadata": {
        "colab": {
          "base_uri": "https://localhost:8080/"
        },
        "id": "TSnkRXzG8Gc-",
        "outputId": "c0d391c5-fd76-464c-ed3b-1c8afb13cdbf"
      },
      "execution_count": null,
      "outputs": [
        {
          "output_type": "stream",
          "name": "stdout",
          "text": [
            "Model: \"sequential_3\"\n",
            "_________________________________________________________________\n",
            " Layer (type)                Output Shape              Param #   \n",
            "=================================================================\n",
            " flatten_3 (Flatten)         (32, 784)                 0         \n",
            "                                                                 \n",
            " dense_7 (Dense)             (32, 150)                 117750    \n",
            "                                                                 \n",
            " dense_8 (Dense)             (32, 40)                  6040      \n",
            "                                                                 \n",
            " dense_9 (Dense)             (32, 2)                   82        \n",
            "                                                                 \n",
            "=================================================================\n",
            "Total params: 123,872\n",
            "Trainable params: 123,872\n",
            "Non-trainable params: 0\n",
            "_________________________________________________________________\n",
            "None\n"
          ]
        }
      ]
    },
    {
      "cell_type": "code",
      "source": [
        "from keras.optimizers import Adam\n",
        "opt = keras.optimizers.Adam(learning_rate=0.001)\n",
        "model.compile(optimizer=opt, loss='binary_crossentropy',metrics=['accuracy'])"
      ],
      "metadata": {
        "id": "FvZZnVs38GfV"
      },
      "execution_count": null,
      "outputs": []
    },
    {
      "cell_type": "code",
      "source": [
        "from tensorflow.keras.callbacks import ModelCheckpoint\n",
        "\n",
        "checkpoint = ModelCheckpoint(checkpoint_path,\n",
        "                             monitor='val_accuracy',\n",
        "                             verbose=False,\n",
        "                             save_best_only=True,\n",
        "                             save_weights_only=True,\n",
        "                             mode='max')"
      ],
      "metadata": {
        "id": "Azd3nnRT8t39"
      },
      "execution_count": null,
      "outputs": []
    },
    {
      "cell_type": "code",
      "source": [
        "history = model.fit(X_train, y_train,\n",
        "                    epochs=12, \n",
        "                    batch_size=batch_size,\n",
        "                    validation_data=(X_test, y_test),\n",
        "                    callbacks=[checkpoint],\n",
        "                    verbose=True,\n",
        "                    shuffle=True)"
      ],
      "metadata": {
        "colab": {
          "base_uri": "https://localhost:8080/"
        },
        "outputId": "2d15f8b2-0ece-46a5-fdbe-0b628328e882",
        "id": "2DYR4shw8xrS"
      },
      "execution_count": null,
      "outputs": [
        {
          "output_type": "stream",
          "name": "stdout",
          "text": [
            "Epoch 1/12\n",
            "375/375 [==============================] - 2s 4ms/step - loss: 0.0678 - accuracy: 0.9771 - val_loss: 0.0575 - val_accuracy: 0.9795\n",
            "Epoch 2/12\n",
            "375/375 [==============================] - 1s 3ms/step - loss: 0.0336 - accuracy: 0.9899 - val_loss: 0.0302 - val_accuracy: 0.9890\n",
            "Epoch 3/12\n",
            "375/375 [==============================] - 1s 3ms/step - loss: 0.0294 - accuracy: 0.9905 - val_loss: 0.0331 - val_accuracy: 0.9875\n",
            "Epoch 4/12\n",
            "375/375 [==============================] - 1s 3ms/step - loss: 0.0209 - accuracy: 0.9931 - val_loss: 0.0292 - val_accuracy: 0.9885\n",
            "Epoch 5/12\n",
            "375/375 [==============================] - 1s 3ms/step - loss: 0.0177 - accuracy: 0.9939 - val_loss: 0.0263 - val_accuracy: 0.9945\n",
            "Epoch 6/12\n",
            "375/375 [==============================] - 1s 3ms/step - loss: 0.0144 - accuracy: 0.9952 - val_loss: 0.0335 - val_accuracy: 0.9900\n",
            "Epoch 7/12\n",
            "375/375 [==============================] - 1s 3ms/step - loss: 0.0141 - accuracy: 0.9948 - val_loss: 0.0279 - val_accuracy: 0.9890\n",
            "Epoch 8/12\n",
            "375/375 [==============================] - 1s 3ms/step - loss: 0.0175 - accuracy: 0.9942 - val_loss: 0.0574 - val_accuracy: 0.9830\n",
            "Epoch 9/12\n",
            "375/375 [==============================] - 1s 3ms/step - loss: 0.0145 - accuracy: 0.9946 - val_loss: 0.0259 - val_accuracy: 0.9935\n",
            "Epoch 10/12\n",
            "375/375 [==============================] - 2s 4ms/step - loss: 0.0089 - accuracy: 0.9974 - val_loss: 0.0330 - val_accuracy: 0.9875\n",
            "Epoch 11/12\n",
            "375/375 [==============================] - 1s 3ms/step - loss: 0.0101 - accuracy: 0.9967 - val_loss: 0.0280 - val_accuracy: 0.9935\n",
            "Epoch 12/12\n",
            "375/375 [==============================] - 1s 3ms/step - loss: 0.0061 - accuracy: 0.9978 - val_loss: 0.0378 - val_accuracy: 0.9880\n"
          ]
        }
      ]
    },
    {
      "cell_type": "code",
      "execution_count": null,
      "metadata": {
        "colab": {
          "base_uri": "https://localhost:8080/"
        },
        "outputId": "04841659-a3a5-4c3a-e632-291fc8b042e9",
        "id": "-hcDi_Jg9TxR"
      },
      "outputs": [
        {
          "output_type": "execute_result",
          "data": {
            "text/plain": [
              "<tensorflow.python.training.tracking.util.CheckpointLoadStatus at 0x7f379f2ad460>"
            ]
          },
          "metadata": {},
          "execution_count": 34
        }
      ],
      "source": [
        "# SAVE THE TRAINED MODEL\n",
        "model.load_weights(\"saved_models/best_conf.ckpt\")"
      ]
    },
    {
      "cell_type": "code",
      "source": [
        "import matplotlib.pyplot as plt\n",
        "plt.plot(history.history['loss'])\n",
        "plt.title('Train Loss')\n",
        "plt.ylabel('Loss')\n",
        "plt.xlabel('Epoch')\n",
        "plt.legend(['Train loss'], loc='upper left')\n",
        "plt.show()"
      ],
      "metadata": {
        "colab": {
          "base_uri": "https://localhost:8080/"
        },
        "id": "dE6lu15y88pL",
        "outputId": "74c572f5-4f60-4076-c453-c58e6b2d4101"
      },
      "execution_count": null,
      "outputs": [
        {
          "output_type": "display_data",
          "data": {
            "text/plain": [
              "<Figure size 432x288 with 1 Axes>"
            ],
            "image/png": "[encoded data removed]"
          },
          "metadata": {
            "needs_background": "light"
          }
        }
      ]
    },
    {
      "cell_type": "code",
      "source": [
        "plt.plot(history.history['accuracy'])\n",
        "plt.title('Model Accuracy')\n",
        "plt.ylabel('Accuracy')\n",
        "plt.xlabel('Epoch')\n",
        "plt.legend(['train'], loc='upper left')\n",
        "plt.show()"
      ],
      "metadata": {
        "colab": {
          "base_uri": "https://localhost:8080/"
        },
        "id": "ieKeCd1V88vZ",
        "outputId": "3d78619f-6fdb-481b-eb95-1e844d23d9b5"
      },
      "execution_count": null,
      "outputs": [
        {
          "output_type": "display_data",
          "data": {
            "text/plain": [
              "<Figure size 432x288 with 1 Axes>"
            ],
            "image/png": "[encoded data removed]"
          },
          "metadata": {
            "needs_background": "light"
          }
        }
      ]
    },
    {
      "cell_type": "code",
      "source": [
        "from sklearn.metrics import accuracy_score\n",
        "import numpy as np\n",
        "\n",
        "y_pred = model.predict(X_test)\n",
        "y_pred = np.argmax(y_pred, axis=1)\n",
        "y_actual = np.argmax(y_test, axis=1)\n",
        "is_correct = []\n",
        "\n",
        "for i, pred in enumerate(y_pred):\n",
        "    is_correct += [1 if y_actual[i] == y_pred[i] else 0]\n",
        "\n",
        "accuracy =  100 * sum(is_correct) / len(is_correct)\n",
        "print(f\"accuracy is: {accuracy}\")"
      ],
      "metadata": {
        "colab": {
          "base_uri": "https://localhost:8080/"
        },
        "id": "NJufmbNl8Gj-",
        "outputId": "7500b688-88b3-45f5-8597-1ac71092ce4a"
      },
      "execution_count": null,
      "outputs": [
        {
          "output_type": "stream",
          "name": "stdout",
          "text": [
            "63/63 [==============================] - 0s 2ms/step\n",
            "accuracy is: 99.45\n"
          ]
        }
      ]
    },
    {
      "cell_type": "code",
      "source": [
        "from sklearn.metrics import confusion_matrix\n",
        "import seaborn as sns\n",
        "\n",
        "def plot_conf_mat(conf_mat):\n",
        "    fig, ax = plt.subplots(figsize=(4,4))\n",
        "    ax = sns.heatmap(conf_mat,\n",
        "                    annot=True,\n",
        "                    cbar=False,\n",
        "                    fmt='d')\n",
        "    plt.xlabel(\"Predicted label\")\n",
        "    plt.ylabel(\"Actual label\")\n",
        "\n",
        "conf_mat = confusion_matrix(y_actual, y_pred)\n",
        "plot_conf_mat(conf_mat)  "
      ],
      "metadata": {
        "colab": {
          "base_uri": "https://localhost:8080/"
        },
        "id": "ocFxB_Jk9dpr",
        "outputId": "87baa1a8-e3cf-4744-81de-2bf74e1e4495"
      },
      "execution_count": null,
      "outputs": [
        {
          "output_type": "display_data",
          "data": {
            "text/plain": [
              "<Figure size 288x288 with 1 Axes>"
            ],
            "image/png": "[encoded data removed]"
          },
          "metadata": {
            "needs_background": "light"
          }
        }
      ]
    },
    {
      "cell_type": "markdown",
      "source": [
        "**Conclusion:** <br>\n",
        "The results are impressive with 99.4% accuracy! <br>\n",
        "This experiment turned out to achieve even higher results than both the base model and the first experiment."
      ],
      "metadata": {
        "id": "8i5QEAHz9mwS"
      }
    },
    {
      "cell_type": "markdown",
      "metadata": {
        "id": "L0xlxiaj6xM4"
      },
      "source": [
        "## Test Environment (of part 2 only)\n",
        "This part is meant to show the tester how your model is performing. Keep in mind that the only cells he is going to run are the cells below.<br>\n",
        "(If there are libraries that need to be used please add their import. If there is a process that the data has to go through before it enters the model, don't forget to add it as well)."
      ]
    },
    {
      "cell_type": "markdown",
      "metadata": {
        "id": "-rMJ1ucy7lKB"
      },
      "source": [
        "### Load trained model"
      ]
    },
    {
      "cell_type": "code",
      "execution_count": null,
      "metadata": {
        "id": "I27yHolJ7naT",
        "colab": {
          "base_uri": "https://localhost:8080/"
        },
        "outputId": "6cfdf0c7-597d-4947-b7ba-d07f4571546d"
      },
      "outputs": [
        {
          "output_type": "execute_result",
          "data": {
            "text/plain": [
              "<tensorflow.python.training.tracking.util.CheckpointLoadStatus at 0x7f379f1b7fa0>"
            ]
          },
          "metadata": {},
          "execution_count": 39
        }
      ],
      "source": [
        "# LOAD THE TRAINED MODEL\n",
        "model.load_weights(\"saved_models/best_conf.ckpt\")"
      ]
    },
    {
      "cell_type": "markdown",
      "metadata": {
        "id": "5PSVr_J-_wmX"
      },
      "source": [
        "### Single prediction\n",
        "Let the tester examine your trained model on single predicttion test.<br>You will use the colab.file library to allow the tester to upload a single image of an item of clothing (28x28 image).<br>\n",
        "Then build a function that takes this image, loads the weights of the trained model (If you haven't loaded it before) and prints a prediction."
      ]
    },
    {
      "cell_type": "code",
      "execution_count": null,
      "metadata": {
        "id": "kDwk5C13BDD4"
      },
      "outputs": [],
      "source": [
        "import tensorflow as tf\n",
        "from tensorflow import keras\n",
        "import matplotlib.pyplot as plt"
      ]
    },
    {
      "cell_type": "code",
      "execution_count": null,
      "metadata": {
        "id": "WGSD04i68JW-",
        "colab": {
          "base_uri": "https://localhost:8080/",
          "height": 56
        },
        "outputId": "2a98b208-dfb1-4064-e83c-22c4e298ee96"
      },
      "outputs": [
        {
          "output_type": "display_data",
          "data": {
            "text/plain": [
              "<IPython.core.display.HTML object>"
            ],
            "text/html": [
              "\n",
              "     <input type=\"file\" id=\"files-540063ce-0f21-42b0-a144-67f9c80dd219\" name=\"files[]\" multiple disabled\n",
              "        style=\"border:none\" />\n",
              "     <output id=\"result-540063ce-0f21-42b0-a144-67f9c80dd219\">\n",
              "      Upload widget is only available when the cell has been executed in the\n",
              "      current browser session. Please rerun this cell to enable.\n",
              "      </output>\n",
              "      <script>// Copyright 2017 Google LLC\n",
              "//\n",
              "// Licensed under the Apache License, Version 2.0 (the \"License\");\n",
              "// you may not use this file except in compliance with the License.\n",
              "// You may obtain a copy of the License at\n",
              "//\n",
              "//      http://www.apache.org/licenses/LICENSE-2.0\n",
              "//\n",
              "// Unless required by applicable law or agreed to in writing, software\n",
              "// distributed under the License is distributed on an \"AS IS\" BASIS,\n",
              "// WITHOUT WARRANTIES OR CONDITIONS OF ANY KIND, either express or implied.\n",
              "// See the License for the specific language governing permissions and\n",
              "// limitations under the License.\n",
              "\n",
              "/**\n",
              " * @fileoverview Helpers for google.colab Python module.\n",
              " */\n",
              "(function(scope) {\n",
              "function span(text, styleAttributes = {}) {\n",
              "  const element = document.createElement('span');\n",
              "  element.textContent = text;\n",
              "  for (const key of Object.keys(styleAttributes)) {\n",
              "    element.style[key] = styleAttributes[key];\n",
              "  }\n",
              "  return element;\n",
              "}\n",
              "\n",
              "// Max number of bytes which will be uploaded at a time.\n",
              "const MAX_PAYLOAD_SIZE = 100 * 1024;\n",
              "\n",
              "function _uploadFiles(inputId, outputId) {\n",
              "  const steps = uploadFilesStep(inputId, outputId);\n",
              "  const outputElement = document.getElementById(outputId);\n",
              "  // Cache steps on the outputElement to make it available for the next call\n",
              "  // to uploadFilesContinue from Python.\n",
              "  outputElement.steps = steps;\n",
              "\n",
              "  return _uploadFilesContinue(outputId);\n",
              "}\n",
              "\n",
              "// This is roughly an async generator (not supported in the browser yet),\n",
              "// where there are multiple asynchronous steps and the Python side is going\n",
              "// to poll for completion of each step.\n",
              "// This uses a Promise to block the python side on completion of each step,\n",
              "// then passes the result of the previous step as the input to the next step.\n",
              "function _uploadFilesContinue(outputId) {\n",
              "  const outputElement = document.getElementById(outputId);\n",
              "  const steps = outputElement.steps;\n",
              "\n",
              "  const next = steps.next(outputElement.lastPromiseValue);\n",
              "  return Promise.resolve(next.value.promise).then((value) => {\n",
              "    // Cache the last promise value to make it available to the next\n",
              "    // step of the generator.\n",
              "    outputElement.lastPromiseValue = value;\n",
              "    return next.value.response;\n",
              "  });\n",
              "}\n",
              "\n",
              "/**\n",
              " * Generator function which is called between each async step of the upload\n",
              " * process.\n",
              " * @param {string} inputId Element ID of the input file picker element.\n",
              " * @param {string} outputId Element ID of the output display.\n",
              " * @return {!Iterable<!Object>} Iterable of next steps.\n",
              " */\n",
              "function* uploadFilesStep(inputId, outputId) {\n",
              "  const inputElement = document.getElementById(inputId);\n",
              "  inputElement.disabled = false;\n",
              "\n",
              "  const outputElement = document.getElementById(outputId);\n",
              "  outputElement.innerHTML = '';\n",
              "\n",
              "  const pickedPromise = new Promise((resolve) => {\n",
              "    inputElement.addEventListener('change', (e) => {\n",
              "      resolve(e.target.files);\n",
              "    });\n",
              "  });\n",
              "\n",
              "  const cancel = document.createElement('button');\n",
              "  inputElement.parentElement.appendChild(cancel);\n",
              "  cancel.textContent = 'Cancel upload';\n",
              "  const cancelPromise = new Promise((resolve) => {\n",
              "    cancel.onclick = () => {\n",
              "      resolve(null);\n",
              "    };\n",
              "  });\n",
              "\n",
              "  // Wait for the user to pick the files.\n",
              "  const files = yield {\n",
              "    promise: Promise.race([pickedPromise, cancelPromise]),\n",
              "    response: {\n",
              "      action: 'starting',\n",
              "    }\n",
              "  };\n",
              "\n",
              "  cancel.remove();\n",
              "\n",
              "  // Disable the input element since further picks are not allowed.\n",
              "  inputElement.disabled = true;\n",
              "\n",
              "  if (!files) {\n",
              "    return {\n",
              "      response: {\n",
              "        action: 'complete',\n",
              "      }\n",
              "    };\n",
              "  }\n",
              "\n",
              "  for (const file of files) {\n",
              "    const li = document.createElement('li');\n",
              "    li.append(span(file.name, {fontWeight: 'bold'}));\n",
              "    li.append(span(\n",
              "        `(${file.type || 'n/a'}) - ${file.size} bytes, ` +\n",
              "        `last modified: ${\n",
              "            file.lastModifiedDate ? file.lastModifiedDate.toLocaleDateString() :\n",
              "                                    'n/a'} - `));\n",
              "    const percent = span('0% done');\n",
              "    li.appendChild(percent);\n",
              "\n",
              "    outputElement.appendChild(li);\n",
              "\n",
              "    const fileDataPromise = new Promise((resolve) => {\n",
              "      const reader = new FileReader();\n",
              "      reader.onload = (e) => {\n",
              "        resolve(e.target.result);\n",
              "      };\n",
              "      reader.readAsArrayBuffer(file);\n",
              "    });\n",
              "    // Wait for the data to be ready.\n",
              "    let fileData = yield {\n",
              "      promise: fileDataPromise,\n",
              "      response: {\n",
              "        action: 'continue',\n",
              "      }\n",
              "    };\n",
              "\n",
              "    // Use a chunked sending to avoid message size limits. See b/62115660.\n",
              "    let position = 0;\n",
              "    do {\n",
              "      const length = Math.min(fileData.byteLength - position, MAX_PAYLOAD_SIZE);\n",
              "      const chunk = new Uint8Array(fileData, position, length);\n",
              "      position += length;\n",
              "\n",
              "      const base64 = btoa(String.fromCharCode.apply(null, chunk));\n",
              "      yield {\n",
              "        response: {\n",
              "          action: 'append',\n",
              "          file: file.name,\n",
              "          data: base64,\n",
              "        },\n",
              "      };\n",
              "\n",
              "      let percentDone = fileData.byteLength === 0 ?\n",
              "          100 :\n",
              "          Math.round((position / fileData.byteLength) * 100);\n",
              "      percent.textContent = `${percentDone}% done`;\n",
              "\n",
              "    } while (position < fileData.byteLength);\n",
              "  }\n",
              "\n",
              "  // All done.\n",
              "  yield {\n",
              "    response: {\n",
              "      action: 'complete',\n",
              "    }\n",
              "  };\n",
              "}\n",
              "\n",
              "scope.google = scope.google || {};\n",
              "scope.google.colab = scope.google.colab || {};\n",
              "scope.google.colab._files = {\n",
              "  _uploadFiles,\n",
              "  _uploadFilesContinue,\n",
              "};\n",
              "})(self);\n",
              "</script> "
            ]
          },
          "metadata": {}
        },
        {
          "output_type": "execute_result",
          "data": {
            "text/plain": [
              "{}"
            ]
          },
          "metadata": {},
          "execution_count": 41
        }
      ],
      "source": [
        "from google.colab import files\n",
        "files.upload()"
      ]
    },
    {
      "cell_type": "code",
      "execution_count": null,
      "metadata": {
        "id": "Y7SBK56880aY"
      },
      "outputs": [],
      "source": [
        "fashion_mnist = keras.datasets.fashion_mnist\n",
        "(X_train, y_train), (X_test, y_test) = fashion_mnist.load_data()"
      ]
    },
    {
      "cell_type": "code",
      "source": [
        "def select_classes(X_train, y_train, X_test, y_test):\n",
        "    selected_classes = lambda tag: True if tag in [0, 1] else False\n",
        "    X_train = X_train[[selected_classes(yi) for yi in y_train]]\n",
        "    y_train = y_train[[selected_classes(yi) for yi in y_train]]\n",
        "\n",
        "    X_test = X_test[[selected_classes(yi) for yi in y_test]]\n",
        "    y_test = y_test[[selected_classes(yi) for yi in y_test]]\n",
        "    return X_train, y_train, X_test, y_test\n",
        "\n",
        "X_train, y_train, X_test, y_test = select_classes(X_train, y_train, X_test, y_test)"
      ],
      "metadata": {
        "id": "VFI94m7jUYYN"
      },
      "execution_count": null,
      "outputs": []
    },
    {
      "cell_type": "code",
      "source": [
        "def single_prediction(sample_data):\n",
        "    model.load_weights(\"saved_models/best_conf.ckpt\")\n",
        "    data = np.array([sample_data])\n",
        "    data = data.astype(float) / 255.\n",
        "\n",
        "    y_pred = model.predict(data)  \n",
        "    y_pred = np.argmax(y_pred, axis=1)\n",
        "\n",
        "    if y_pred[0] == 0:\n",
        "      prediction = \"T-shirt\"\n",
        "    else:\n",
        "      prediction = \"Trouser\"\n",
        "\n",
        "    print(f'The model predicted: {prediction}')\n",
        "    plt.imshow(sample_data)\n",
        "    plt.show()"
      ],
      "metadata": {
        "id": "N3l9z5VVTYlt"
      },
      "execution_count": null,
      "outputs": []
    },
    {
      "cell_type": "code",
      "source": [
        "sample = X_test[0]\n",
        "single_prediction(sample)"
      ],
      "metadata": {
        "colab": {
          "base_uri": "https://localhost:8080/",
          "height": 301
        },
        "id": "ci7XzpPMTacU",
        "outputId": "63c88e7d-565c-4d59-cd1a-6f82a7cf874c"
      },
      "execution_count": null,
      "outputs": [
        {
          "output_type": "stream",
          "name": "stdout",
          "text": [
            "1/1 [==============================] - 0s 15ms/step\n",
            "The model predicted: Trouser\n"
          ]
        },
        {
          "output_type": "display_data",
          "data": {
            "text/plain": [
              "<Figure size 432x288 with 1 Axes>"
            ],
            "image/png": "[encoded data removed]"
          },
          "metadata": {
            "needs_background": "light"
          }
        }
      ]
    }
  ],
  "metadata": {
    "colab": {
      "provenance": [],
      "collapsed_sections": [
        "4K84YZ_QU8Fv",
        "gg7D7fwGH9Yv",
        "jwIzE9kSU8GI",
        "zS3_ZnXk450S",
        "bkNYD1oRU8GK",
        "SAUlD1ypU8GL",
        "EcdaQs5U6SyM",
        "wXvdU1Rl8DSz"
      ]
    },
    "kernelspec": {
      "display_name": "Python 3",
      "name": "python3"
    },
    "language_info": {
      "name": "python"
    },
    "gpuClass": "standard"
  },
  "nbformat": 4,
  "nbformat_minor": 0
}